{
 "cells": [
  {
   "cell_type": "code",
   "execution_count": 1,
   "id": "e3a3fdf9",
   "metadata": {
    "_cell_guid": "b1076dfc-b9ad-4769-8c92-a6c4dae69d19",
    "_uuid": "8f2839f25d086af736a60e9eeb907d3b93b6e0e5",
    "execution": {
     "iopub.execute_input": "2024-04-01T14:49:51.675870Z",
     "iopub.status.busy": "2024-04-01T14:49:51.675053Z",
     "iopub.status.idle": "2024-04-01T14:49:54.293474Z",
     "shell.execute_reply": "2024-04-01T14:49:54.292488Z"
    },
    "papermill": {
     "duration": 2.635715,
     "end_time": "2024-04-01T14:49:54.296130",
     "exception": false,
     "start_time": "2024-04-01T14:49:51.660415",
     "status": "completed"
    },
    "tags": []
   },
   "outputs": [],
   "source": [
    "#Importando as bibliotecas necessárias para explorar os dados\n",
    "import numpy as np\n",
    "import pandas as pd\n",
    "import matplotlib.pyplot as plt\n",
    "import seaborn as sns\n",
    "import os"
   ]
  },
  {
   "cell_type": "code",
   "execution_count": 2,
   "id": "ea2a5b35",
   "metadata": {
    "execution": {
     "iopub.execute_input": "2024-04-01T14:49:54.319606Z",
     "iopub.status.busy": "2024-04-01T14:49:54.319081Z",
     "iopub.status.idle": "2024-04-01T14:51:55.175842Z",
     "shell.execute_reply": "2024-04-01T14:51:55.174638Z"
    },
    "papermill": {
     "duration": 120.871253,
     "end_time": "2024-04-01T14:51:55.178363",
     "exception": false,
     "start_time": "2024-04-01T14:49:54.307110",
     "status": "completed"
    },
    "tags": []
   },
   "outputs": [
    {
     "name": "stderr",
     "output_type": "stream",
     "text": [
      "/tmp/ipykernel_18/2570457407.py:2: ParserWarning: Skipping line 3394310: expected 64 fields, saw 65\n",
      "\n",
      "  dfSP1 = pd.read_csv('/kaggle/input/sus-sndrome-gripal-2023/SP1.csv', sep=';', on_bad_lines='warn')\n",
      "/tmp/ipykernel_18/2570457407.py:2: DtypeWarning: Columns (4,12,21,23,36,62) have mixed types. Specify dtype option on import or set low_memory=False.\n",
      "  dfSP1 = pd.read_csv('/kaggle/input/sus-sndrome-gripal-2023/SP1.csv', sep=';', on_bad_lines='warn')\n",
      "/tmp/ipykernel_18/2570457407.py:3: DtypeWarning: Columns (12,61,62) have mixed types. Specify dtype option on import or set low_memory=False.\n",
      "  dfSP2 = pd.read_csv('/kaggle/input/sus-sndrome-gripal-2023/SP2.csv', sep=';', on_bad_lines='warn')\n",
      "/tmp/ipykernel_18/2570457407.py:4: DtypeWarning: Columns (12,61,62) have mixed types. Specify dtype option on import or set low_memory=False.\n",
      "  dfSP3 = pd.read_csv('/kaggle/input/sus-sndrome-gripal-2023/SP3.csv', sep=';', on_bad_lines='warn')\n"
     ]
    }
   ],
   "source": [
    "#Lendo as 3 partes do dataset de São Paulo, considerando o separador como ponto e vírgula, avisando e pulando as linhas que possuem problemas \"on bad lines\"\n",
    "dfSP1 = pd.read_csv('/kaggle/input/sus-sndrome-gripal-2023/SP1.csv', sep=';', on_bad_lines='warn')\n",
    "dfSP2 = pd.read_csv('/kaggle/input/sus-sndrome-gripal-2023/SP2.csv', sep=';', on_bad_lines='warn')\n",
    "dfSP3 = pd.read_csv('/kaggle/input/sus-sndrome-gripal-2023/SP3.csv', sep=';', on_bad_lines='warn')"
   ]
  },
  {
   "cell_type": "code",
   "execution_count": 3,
   "id": "7059bc83",
   "metadata": {
    "execution": {
     "iopub.execute_input": "2024-04-01T14:51:55.202337Z",
     "iopub.status.busy": "2024-04-01T14:51:55.201628Z",
     "iopub.status.idle": "2024-04-01T14:51:58.011508Z",
     "shell.execute_reply": "2024-04-01T14:51:58.010160Z"
    },
    "papermill": {
     "duration": 2.824856,
     "end_time": "2024-04-01T14:51:58.014160",
     "exception": false,
     "start_time": "2024-04-01T14:51:55.189304",
     "status": "completed"
    },
    "tags": []
   },
   "outputs": [
    {
     "data": {
      "text/html": [
       "<div>\n",
       "<style scoped>\n",
       "    .dataframe tbody tr th:only-of-type {\n",
       "        vertical-align: middle;\n",
       "    }\n",
       "\n",
       "    .dataframe tbody tr th {\n",
       "        vertical-align: top;\n",
       "    }\n",
       "\n",
       "    .dataframe thead th {\n",
       "        text-align: right;\n",
       "    }\n",
       "</style>\n",
       "<table border=\"1\" class=\"dataframe\">\n",
       "  <thead>\n",
       "    <tr style=\"text-align: right;\">\n",
       "      <th></th>\n",
       "      <th>sintomas</th>\n",
       "      <th>profissionalSaude</th>\n",
       "      <th>racaCor</th>\n",
       "      <th>outrosSintomas</th>\n",
       "      <th>outrasCondicoes</th>\n",
       "      <th>profissionalSeguranca</th>\n",
       "      <th>cbo</th>\n",
       "      <th>condicoes</th>\n",
       "      <th>sexo</th>\n",
       "      <th>estado</th>\n",
       "      <th>...</th>\n",
       "      <th>codigoResultadoTeste3</th>\n",
       "      <th>codigoEstadoTeste4</th>\n",
       "      <th>codigoTipoTeste4</th>\n",
       "      <th>codigoFabricanteTeste4</th>\n",
       "      <th>codigoResultadoTeste4</th>\n",
       "      <th>dataColetaTeste1</th>\n",
       "      <th>dataColetaTeste2</th>\n",
       "      <th>dataColetaTeste3</th>\n",
       "      <th>dataColetaTeste4</th>\n",
       "      <th>idade</th>\n",
       "    </tr>\n",
       "  </thead>\n",
       "  <tbody>\n",
       "    <tr>\n",
       "      <th>0</th>\n",
       "      <td>Tosse, Febre, Dor de Garganta, Coriza</td>\n",
       "      <td>Não</td>\n",
       "      <td>Preta</td>\n",
       "      <td>NaN</td>\n",
       "      <td>NaN</td>\n",
       "      <td>Não</td>\n",
       "      <td>NaN</td>\n",
       "      <td>NaN</td>\n",
       "      <td>Feminino</td>\n",
       "      <td>São Paulo</td>\n",
       "      <td>...</td>\n",
       "      <td>NaN</td>\n",
       "      <td>NaN</td>\n",
       "      <td>NaN</td>\n",
       "      <td>NaN</td>\n",
       "      <td>NaN</td>\n",
       "      <td>2023-11-16</td>\n",
       "      <td>NaN</td>\n",
       "      <td>NaN</td>\n",
       "      <td>NaN</td>\n",
       "      <td>NaN</td>\n",
       "    </tr>\n",
       "    <tr>\n",
       "      <th>1</th>\n",
       "      <td>Assintomático</td>\n",
       "      <td>Não</td>\n",
       "      <td>Ignorado</td>\n",
       "      <td>NaN</td>\n",
       "      <td>NaN</td>\n",
       "      <td>Não</td>\n",
       "      <td>NaN</td>\n",
       "      <td>NaN</td>\n",
       "      <td>Feminino</td>\n",
       "      <td>São Paulo</td>\n",
       "      <td>...</td>\n",
       "      <td>NaN</td>\n",
       "      <td>NaN</td>\n",
       "      <td>NaN</td>\n",
       "      <td>NaN</td>\n",
       "      <td>NaN</td>\n",
       "      <td>2023-10-11</td>\n",
       "      <td>NaN</td>\n",
       "      <td>NaN</td>\n",
       "      <td>NaN</td>\n",
       "      <td>7.0</td>\n",
       "    </tr>\n",
       "    <tr>\n",
       "      <th>2</th>\n",
       "      <td>Tosse, Dor de Garganta, Outros</td>\n",
       "      <td>Não</td>\n",
       "      <td>Branca</td>\n",
       "      <td>MIALGIA</td>\n",
       "      <td>NaN</td>\n",
       "      <td>Não</td>\n",
       "      <td>NaN</td>\n",
       "      <td>NaN</td>\n",
       "      <td>Feminino</td>\n",
       "      <td>São Paulo</td>\n",
       "      <td>...</td>\n",
       "      <td>NaN</td>\n",
       "      <td>NaN</td>\n",
       "      <td>NaN</td>\n",
       "      <td>NaN</td>\n",
       "      <td>NaN</td>\n",
       "      <td>2023-03-17</td>\n",
       "      <td>NaN</td>\n",
       "      <td>NaN</td>\n",
       "      <td>NaN</td>\n",
       "      <td>8.0</td>\n",
       "    </tr>\n",
       "    <tr>\n",
       "      <th>3</th>\n",
       "      <td>Coriza, Dor de Cabeça, Tosse</td>\n",
       "      <td>Não</td>\n",
       "      <td>Parda</td>\n",
       "      <td>NaN</td>\n",
       "      <td>NaN</td>\n",
       "      <td>Não</td>\n",
       "      <td>NaN</td>\n",
       "      <td>NaN</td>\n",
       "      <td>Masculino</td>\n",
       "      <td>São Paulo</td>\n",
       "      <td>...</td>\n",
       "      <td>NaN</td>\n",
       "      <td>NaN</td>\n",
       "      <td>NaN</td>\n",
       "      <td>NaN</td>\n",
       "      <td>NaN</td>\n",
       "      <td>2023-10-11</td>\n",
       "      <td>NaN</td>\n",
       "      <td>NaN</td>\n",
       "      <td>NaN</td>\n",
       "      <td>37.0</td>\n",
       "    </tr>\n",
       "    <tr>\n",
       "      <th>4</th>\n",
       "      <td>Dor de Cabeça, Febre, Outros</td>\n",
       "      <td>Não</td>\n",
       "      <td>Branca</td>\n",
       "      <td>DOR NO CORPO, APETITE DIMINUIDO</td>\n",
       "      <td>NaN</td>\n",
       "      <td>Não</td>\n",
       "      <td>NaN</td>\n",
       "      <td>NaN</td>\n",
       "      <td>Masculino</td>\n",
       "      <td>São Paulo</td>\n",
       "      <td>...</td>\n",
       "      <td>NaN</td>\n",
       "      <td>NaN</td>\n",
       "      <td>NaN</td>\n",
       "      <td>NaN</td>\n",
       "      <td>NaN</td>\n",
       "      <td>2023-12-06</td>\n",
       "      <td>NaN</td>\n",
       "      <td>NaN</td>\n",
       "      <td>NaN</td>\n",
       "      <td>25.0</td>\n",
       "    </tr>\n",
       "  </tbody>\n",
       "</table>\n",
       "<p>5 rows × 64 columns</p>\n",
       "</div>"
      ],
      "text/plain": [
       "                                sintomas profissionalSaude   racaCor  \\\n",
       "0  Tosse, Febre, Dor de Garganta, Coriza               Não     Preta   \n",
       "1                          Assintomático               Não  Ignorado   \n",
       "2         Tosse, Dor de Garganta, Outros               Não    Branca   \n",
       "3           Coriza, Dor de Cabeça, Tosse               Não     Parda   \n",
       "4           Dor de Cabeça, Febre, Outros               Não    Branca   \n",
       "\n",
       "                    outrosSintomas outrasCondicoes profissionalSeguranca  cbo  \\\n",
       "0                              NaN             NaN                   Não  NaN   \n",
       "1                              NaN             NaN                   Não  NaN   \n",
       "2                          MIALGIA             NaN                   Não  NaN   \n",
       "3                              NaN             NaN                   Não  NaN   \n",
       "4  DOR NO CORPO, APETITE DIMINUIDO             NaN                   Não  NaN   \n",
       "\n",
       "  condicoes       sexo     estado  ... codigoResultadoTeste3  \\\n",
       "0       NaN   Feminino  São Paulo  ...                   NaN   \n",
       "1       NaN   Feminino  São Paulo  ...                   NaN   \n",
       "2       NaN   Feminino  São Paulo  ...                   NaN   \n",
       "3       NaN  Masculino  São Paulo  ...                   NaN   \n",
       "4       NaN  Masculino  São Paulo  ...                   NaN   \n",
       "\n",
       "  codigoEstadoTeste4 codigoTipoTeste4 codigoFabricanteTeste4  \\\n",
       "0                NaN              NaN                    NaN   \n",
       "1                NaN              NaN                    NaN   \n",
       "2                NaN              NaN                    NaN   \n",
       "3                NaN              NaN                    NaN   \n",
       "4                NaN              NaN                    NaN   \n",
       "\n",
       "  codigoResultadoTeste4 dataColetaTeste1  dataColetaTeste2 dataColetaTeste3  \\\n",
       "0                   NaN       2023-11-16               NaN              NaN   \n",
       "1                   NaN       2023-10-11               NaN              NaN   \n",
       "2                   NaN       2023-03-17               NaN              NaN   \n",
       "3                   NaN       2023-10-11               NaN              NaN   \n",
       "4                   NaN       2023-12-06               NaN              NaN   \n",
       "\n",
       "  dataColetaTeste4  idade  \n",
       "0              NaN    NaN  \n",
       "1              NaN    7.0  \n",
       "2              NaN    8.0  \n",
       "3              NaN   37.0  \n",
       "4              NaN   25.0  \n",
       "\n",
       "[5 rows x 64 columns]"
      ]
     },
     "execution_count": 3,
     "metadata": {},
     "output_type": "execute_result"
    }
   ],
   "source": [
    "#Combinando todos os dataframes em um só\n",
    "dfSP = pd.concat([dfSP1, dfSP2, dfSP3], ignore_index=True)\n",
    "dfSP.head()"
   ]
  },
  {
   "cell_type": "code",
   "execution_count": 4,
   "id": "3b552a83",
   "metadata": {
    "execution": {
     "iopub.execute_input": "2024-04-01T14:51:58.039176Z",
     "iopub.status.busy": "2024-04-01T14:51:58.038776Z",
     "iopub.status.idle": "2024-04-01T14:51:58.046849Z",
     "shell.execute_reply": "2024-04-01T14:51:58.045740Z"
    },
    "papermill": {
     "duration": 0.023126,
     "end_time": "2024-04-01T14:51:58.049112",
     "exception": false,
     "start_time": "2024-04-01T14:51:58.025986",
     "status": "completed"
    },
    "tags": []
   },
   "outputs": [
    {
     "data": {
      "text/plain": [
       "Index(['sintomas', 'profissionalSaude', 'racaCor', 'outrosSintomas',\n",
       "       'outrasCondicoes', 'profissionalSeguranca', 'cbo', 'condicoes', 'sexo',\n",
       "       'estado', 'estadoIBGE', 'municipio', 'municipioIBGE', 'origem',\n",
       "       'estadoNotificacao', 'municipioNotificacao', 'municipioNotificacaoIBGE',\n",
       "       'evolucaoCaso', 'classificacaoFinal', 'codigoEstrategiaCovid',\n",
       "       'codigoBuscaAtivaAssintomatico', 'outroBuscaAtivaAssintomatico',\n",
       "       'codigoTriagemPopulacaoEspecifica', 'outroTriagemPopulacaoEspecifica',\n",
       "       'codigoLocalRealizacaoTestagem', 'outroLocalRealizacaoTestagem',\n",
       "       'codigoRecebeuVacina', 'codigoLaboratorioPrimeiraDose',\n",
       "       'codigoLaboratorioSegundaDose', 'lotePrimeiraDose', 'loteSegundaDose',\n",
       "       'codigoContemComunidadeTradicional', 'source_id', 'excluido',\n",
       "       'validado', 'codigoDosesVacina', 'estadoNotificacaoIBGE',\n",
       "       'totalTestesRealizados', 'dataNotificacao', 'dataInicioSintomas',\n",
       "       'dataEncerramento', 'dataPrimeiraDose', 'dataSegundaDose',\n",
       "       'codigoEstadoTeste1', 'codigoTipoTeste1', 'codigoFabricanteTeste1',\n",
       "       'codigoResultadoTeste1', 'codigoEstadoTeste2', 'codigoTipoTeste2',\n",
       "       'codigoFabricanteTeste2', 'codigoResultadoTeste2', 'codigoEstadoTeste3',\n",
       "       'codigoTipoTeste3', 'codigoFabricanteTeste3', 'codigoResultadoTeste3',\n",
       "       'codigoEstadoTeste4', 'codigoTipoTeste4', 'codigoFabricanteTeste4',\n",
       "       'codigoResultadoTeste4', 'dataColetaTeste1', 'dataColetaTeste2',\n",
       "       'dataColetaTeste3', 'dataColetaTeste4', 'idade'],\n",
       "      dtype='object')"
      ]
     },
     "execution_count": 4,
     "metadata": {},
     "output_type": "execute_result"
    }
   ],
   "source": [
    "#Exibindo as colunas do dataframe para entender todas as variáveis\n",
    "dfSP.columns"
   ]
  },
  {
   "cell_type": "code",
   "execution_count": 5,
   "id": "25584abb",
   "metadata": {
    "execution": {
     "iopub.execute_input": "2024-04-01T14:51:58.074224Z",
     "iopub.status.busy": "2024-04-01T14:51:58.073793Z",
     "iopub.status.idle": "2024-04-01T14:52:08.573064Z",
     "shell.execute_reply": "2024-04-01T14:52:08.570593Z"
    },
    "papermill": {
     "duration": 10.517024,
     "end_time": "2024-04-01T14:52:08.577709",
     "exception": false,
     "start_time": "2024-04-01T14:51:58.060685",
     "status": "completed"
    },
    "tags": []
   },
   "outputs": [
    {
     "name": "stdout",
     "output_type": "stream",
     "text": [
      "Pacientes de comunidades tradicionais: 6070\n",
      "Outros pacientes: 5366497\n",
      "Percentual em relação ao total: 0.11310916599785671 %\n"
     ]
    }
   ],
   "source": [
    "#Buscando possíveis tópicos para explorar os dados\n",
    "\n",
    "#Verificando se há registros de comunidades tradicionais dentro do estado de São Paulo\n",
    "pacientesComunidades = dfSP[dfSP['codigoContemComunidadeTradicional']==1]['sintomas'].count()\n",
    "pacientesOutros = dfSP[dfSP['codigoContemComunidadeTradicional']==2]['sintomas'].count()\n",
    "\n",
    "print('Pacientes de comunidades tradicionais:', pacientesComunidades)\n",
    "print('Outros pacientes:', pacientesOutros)\n",
    "print('Percentual em relação ao total:', pacientesComunidades / pacientesOutros * 100, '%')"
   ]
  },
  {
   "cell_type": "code",
   "execution_count": 6,
   "id": "c2e24d3a",
   "metadata": {
    "execution": {
     "iopub.execute_input": "2024-04-01T14:52:08.638735Z",
     "iopub.status.busy": "2024-04-01T14:52:08.636093Z",
     "iopub.status.idle": "2024-04-01T14:52:10.013277Z",
     "shell.execute_reply": "2024-04-01T14:52:10.010754Z"
    },
    "papermill": {
     "duration": 1.41441,
     "end_time": "2024-04-01T14:52:10.017580",
     "exception": false,
     "start_time": "2024-04-01T14:52:08.603170",
     "status": "completed"
    },
    "tags": []
   },
   "outputs": [
    {
     "data": {
      "text/plain": [
       "codigoLocalRealizacaoTestagem\n",
       "1.0    4767567\n",
       "4.0     261844\n",
       "3.0      83909\n",
       "7.0      80616\n",
       "2.0      21527\n",
       "6.0       4526\n",
       "5.0        765\n",
       "Name: sintomas, dtype: int64"
      ]
     },
     "execution_count": 6,
     "metadata": {},
     "output_type": "execute_result"
    }
   ],
   "source": [
    "#Locais de realização da testagem\n",
    "#1 - Serviço de saúde (UBS, hospítal, UPA, etc)\n",
    "#2 - Local de trabalho\n",
    "#3 - Aeroporto\n",
    "#4 - Farmácia ou drogaria\n",
    "#5 - Escola\n",
    "#6 - Domicílio ou comunidade\n",
    "#7 - Outro\n",
    "dfSP.groupby(['codigoLocalRealizacaoTestagem'])['sintomas'].count().sort_values(ascending=False)"
   ]
  },
  {
   "cell_type": "code",
   "execution_count": 7,
   "id": "598153ae",
   "metadata": {
    "execution": {
     "iopub.execute_input": "2024-04-01T14:52:10.073493Z",
     "iopub.status.busy": "2024-04-01T14:52:10.072058Z",
     "iopub.status.idle": "2024-04-01T14:52:11.688169Z",
     "shell.execute_reply": "2024-04-01T14:52:11.685292Z"
    },
    "papermill": {
     "duration": 1.654336,
     "end_time": "2024-04-01T14:52:11.697578",
     "exception": false,
     "start_time": "2024-04-01T14:52:10.043242",
     "status": "completed"
    },
    "tags": []
   },
   "outputs": [
    {
     "name": "stdout",
     "output_type": "stream",
     "text": [
      "codigoEstrategiaCovid\n",
      "1.0    4999055\n",
      "2.0     195200\n",
      "3.0      26496\n",
      "Name: sintomas, dtype: int64\n"
     ]
    }
   ],
   "source": [
    "#Tipos de estratégia de testagem de Covid\n",
    "#1 - Diagnóstico assistencial (sintomático)\n",
    "#2 - Busca ativa de assintomático\n",
    "#3 - Triagem de população específica\n",
    "estrategias = dfSP.groupby(['codigoEstrategiaCovid'])['sintomas'].count().sort_values(ascending=False)\n",
    "print (estrategias)"
   ]
  },
  {
   "cell_type": "code",
   "execution_count": 8,
   "id": "baede1f0",
   "metadata": {
    "execution": {
     "iopub.execute_input": "2024-04-01T14:52:11.785650Z",
     "iopub.status.busy": "2024-04-01T14:52:11.785230Z",
     "iopub.status.idle": "2024-04-01T14:52:11.797606Z",
     "shell.execute_reply": "2024-04-01T14:52:11.794093Z"
    },
    "papermill": {
     "duration": 0.069404,
     "end_time": "2024-04-01T14:52:11.808762",
     "exception": false,
     "start_time": "2024-04-01T14:52:11.739358",
     "status": "completed"
    },
    "tags": []
   },
   "outputs": [
    {
     "name": "stdout",
     "output_type": "stream",
     "text": [
      "3.738925683297288 %\n"
     ]
    }
   ],
   "source": [
    "#Percentual de estratégia de busca ativa de assintomáticos em relação ao total\n",
    "print(estrategias[2]/estrategias.sum() * 100, '%')"
   ]
  },
  {
   "cell_type": "code",
   "execution_count": 9,
   "id": "41265949",
   "metadata": {
    "execution": {
     "iopub.execute_input": "2024-04-01T14:52:11.916385Z",
     "iopub.status.busy": "2024-04-01T14:52:11.913274Z",
     "iopub.status.idle": "2024-04-01T14:52:12.874161Z",
     "shell.execute_reply": "2024-04-01T14:52:12.872633Z"
    },
    "papermill": {
     "duration": 1.017947,
     "end_time": "2024-04-01T14:52:12.877302",
     "exception": false,
     "start_time": "2024-04-01T14:52:11.859355",
     "status": "completed"
    },
    "tags": []
   },
   "outputs": [
    {
     "name": "stdout",
     "output_type": "stream",
     "text": [
      "codigoRecebeuVacina\n",
      "1.0    3443838\n",
      "2.0     505191\n",
      "3.0       3574\n",
      "Name: sintomas, dtype: int64\n"
     ]
    }
   ],
   "source": [
    "#Elencando o número de pessoas que receberam vacina ou não\n",
    "#Segundo documentação:\n",
    "#1 - Sim\n",
    "#2 - Não \n",
    "#3 - Ignorado\n",
    "vacinados = dfSP.groupby(['codigoRecebeuVacina'])['sintomas'].count().sort_values(ascending=False)\n",
    "print(vacinados)"
   ]
  },
  {
   "cell_type": "code",
   "execution_count": 10,
   "id": "c61dd2c8",
   "metadata": {
    "execution": {
     "iopub.execute_input": "2024-04-01T14:52:12.909745Z",
     "iopub.status.busy": "2024-04-01T14:52:12.909055Z",
     "iopub.status.idle": "2024-04-01T14:52:12.914750Z",
     "shell.execute_reply": "2024-04-01T14:52:12.913718Z"
    },
    "papermill": {
     "duration": 0.02459,
     "end_time": "2024-04-01T14:52:12.917174",
     "exception": false,
     "start_time": "2024-04-01T14:52:12.892584",
     "status": "completed"
    },
    "tags": []
   },
   "outputs": [
    {
     "name": "stdout",
     "output_type": "stream",
     "text": [
      "12.792790328964413 %\n"
     ]
    }
   ],
   "source": [
    "#Percentual de pessoas que relataram síndrome gripal mas que não se vacinaram\n",
    "#(Desconsiderando as pessoas que não confirmaram)\n",
    "print(vacinados[2]/(vacinados[1] + vacinados[2]) * 100, '%')"
   ]
  },
  {
   "cell_type": "code",
   "execution_count": 11,
   "id": "532131ac",
   "metadata": {
    "execution": {
     "iopub.execute_input": "2024-04-01T14:52:12.945219Z",
     "iopub.status.busy": "2024-04-01T14:52:12.944817Z",
     "iopub.status.idle": "2024-04-01T14:52:12.950216Z",
     "shell.execute_reply": "2024-04-01T14:52:12.948853Z"
    },
    "papermill": {
     "duration": 0.022609,
     "end_time": "2024-04-01T14:52:12.952706",
     "exception": false,
     "start_time": "2024-04-01T14:52:12.930097",
     "status": "completed"
    },
    "tags": []
   },
   "outputs": [],
   "source": [
    "#Talvez montar um gráfico exibindo quais são os sintomas mais comuns\n",
    "#(e a quantidade deles) quando a pessoa se vacinou e quando a pessoa não\n",
    "#se vacinou. Tentar traçar um paralelo também com a quantidade de vacinas\n",
    "#Talvez ter uma evidência de que quanto mais vacinado, melhor"
   ]
  },
  {
   "cell_type": "code",
   "execution_count": 12,
   "id": "6c8692ee",
   "metadata": {
    "execution": {
     "iopub.execute_input": "2024-04-01T14:52:12.980460Z",
     "iopub.status.busy": "2024-04-01T14:52:12.980094Z",
     "iopub.status.idle": "2024-04-01T14:52:14.705184Z",
     "shell.execute_reply": "2024-04-01T14:52:14.702864Z"
    },
    "papermill": {
     "duration": 1.748248,
     "end_time": "2024-04-01T14:52:14.713922",
     "exception": false,
     "start_time": "2024-04-01T14:52:12.965674",
     "status": "completed"
    },
    "tags": []
   },
   "outputs": [
    {
     "name": "stdout",
     "output_type": "stream",
     "text": [
      "evolucaoCaso\n",
      "Cura                        2856972\n",
      "Ignorado                     334756\n",
      "Em tratamento domiciliar      81312\n",
      "Cancelado                     73683\n",
      "Internado                      3253\n",
      "Óbito                          2004\n",
      "Internado em UTI                252\n",
      "Name: sintomas, dtype: int64\n"
     ]
    }
   ],
   "source": [
    "#Status de evolução da doença, agrupados\n",
    "evolucao = dfSP.groupby(['evolucaoCaso'])['sintomas'].count()\n",
    "print(evolucao.sort_values(ascending=False))"
   ]
  },
  {
   "cell_type": "code",
   "execution_count": 13,
   "id": "6046c28e",
   "metadata": {
    "execution": {
     "iopub.execute_input": "2024-04-01T14:52:14.746894Z",
     "iopub.status.busy": "2024-04-01T14:52:14.746192Z",
     "iopub.status.idle": "2024-04-01T14:52:15.570100Z",
     "shell.execute_reply": "2024-04-01T14:52:15.568697Z"
    },
    "papermill": {
     "duration": 0.84266,
     "end_time": "2024-04-01T14:52:15.572941",
     "exception": false,
     "start_time": "2024-04-01T14:52:14.730281",
     "status": "completed"
    },
    "tags": []
   },
   "outputs": [
    {
     "name": "stdout",
     "output_type": "stream",
     "text": [
      "11.448598130841122 %\n"
     ]
    }
   ],
   "source": [
    "#Número de pessoas que morreram e que não se vacinaram\n",
    "dfObitos = dfSP[dfSP['evolucaoCaso'] == 'Óbito']\n",
    "total = dfObitos[dfObitos['codigoRecebeuVacina']==1]['sintomas'].count() + dfObitos[dfObitos['codigoRecebeuVacina']==2]['sintomas'].count()\n",
    "naoVacinados = dfObitos[dfObitos['codigoRecebeuVacina'] == 2]['sintomas'].count()\n",
    "print(naoVacinados / total * 100, '%')"
   ]
  },
  {
   "cell_type": "code",
   "execution_count": 14,
   "id": "a55d5055",
   "metadata": {
    "execution": {
     "iopub.execute_input": "2024-04-01T14:52:15.601870Z",
     "iopub.status.busy": "2024-04-01T14:52:15.601384Z",
     "iopub.status.idle": "2024-04-01T14:52:34.428830Z",
     "shell.execute_reply": "2024-04-01T14:52:34.427413Z"
    },
    "papermill": {
     "duration": 18.846712,
     "end_time": "2024-04-01T14:52:34.432327",
     "exception": false,
     "start_time": "2024-04-01T14:52:15.585615",
     "status": "completed"
    },
    "tags": []
   },
   "outputs": [
    {
     "name": "stdout",
     "output_type": "stream",
     "text": [
      "sintomas\n",
      " Tosse                    1872613\n",
      "Coriza                    1766816\n",
      " Dor de Garganta          1566829\n",
      " Febre                    1284601\n",
      " Dor de Cabeça            1221336\n",
      "Tosse                     1004050\n",
      "Assintomático              933457\n",
      " Outros                    858652\n",
      "Dor de Cabeça              780421\n",
      " Coriza                    461260\n",
      " Dispneia                  394179\n",
      "Febre                      332897\n",
      "Dor de Garganta            313927\n",
      "Outros                     191605\n",
      " Distúrbios Gustativos     147896\n",
      " Distúrbios Olfativos      107780\n",
      "Dispneia                    88936\n",
      "Distúrbios Olfativos        55510\n",
      "Distúrbios Gustativos       44166\n",
      " Assintomático               2063\n",
      " Dispineia                      1\n",
      "Name: count, dtype: int64\n"
     ]
    }
   ],
   "source": [
    "#Agrupando todos os sintomas para contar quais sintomas são mais comuns\n",
    "sintomas = dfSP['sintomas'].str.split(',').explode()\n",
    "\n",
    "print(sintomas.value_counts().sort_values(ascending=False))"
   ]
  },
  {
   "cell_type": "code",
   "execution_count": 15,
   "id": "126b4ece",
   "metadata": {
    "execution": {
     "iopub.execute_input": "2024-04-01T14:52:34.460659Z",
     "iopub.status.busy": "2024-04-01T14:52:34.460272Z",
     "iopub.status.idle": "2024-04-01T14:52:45.176204Z",
     "shell.execute_reply": "2024-04-01T14:52:45.174864Z"
    },
    "papermill": {
     "duration": 10.733397,
     "end_time": "2024-04-01T14:52:45.179264",
     "exception": false,
     "start_time": "2024-04-01T14:52:34.445867",
     "status": "completed"
    },
    "tags": []
   },
   "outputs": [
    {
     "name": "stdout",
     "output_type": "stream",
     "text": [
      "sintomas\n",
      "Tosse                    2876663\n",
      "Coriza                   2228076\n",
      "Dor de Cabeça            2001757\n",
      "Dor de Garganta          1880756\n",
      "Febre                    1617498\n",
      "Outros                   1050257\n",
      "Assintomático             935520\n",
      "Dispneia                  483116\n",
      "Distúrbios Gustativos     192062\n",
      "Distúrbios Olfativos      163290\n",
      "Name: count, dtype: int64\n"
     ]
    }
   ],
   "source": [
    "#Saíram resultados com contagens diferentes por conta de espaços em branco\n",
    "#Limpando as strings que possuem espaço em branco\n",
    "sintomas = sintomas.str.lstrip()\n",
    "\n",
    "#Teve um único resultado \"Dispineia\", que foi escrito incorretamente\n",
    "#Transferindo para o termo correto\n",
    "sintomas[sintomas == \"Dispineia\"] = \"Dispneia\"\n",
    "\n",
    "print(sintomas.value_counts().sort_values(ascending=False))"
   ]
  },
  {
   "cell_type": "code",
   "execution_count": 16,
   "id": "439d9701",
   "metadata": {
    "execution": {
     "iopub.execute_input": "2024-04-01T14:52:45.212096Z",
     "iopub.status.busy": "2024-04-01T14:52:45.211418Z",
     "iopub.status.idle": "2024-04-01T14:52:47.937649Z",
     "shell.execute_reply": "2024-04-01T14:52:47.936194Z"
    },
    "papermill": {
     "duration": 2.742996,
     "end_time": "2024-04-01T14:52:47.940208",
     "exception": false,
     "start_time": "2024-04-01T14:52:45.197212",
     "status": "completed"
    },
    "tags": []
   },
   "outputs": [
    {
     "data": {
      "text/html": [
       "<div>\n",
       "<style scoped>\n",
       "    .dataframe tbody tr th:only-of-type {\n",
       "        vertical-align: middle;\n",
       "    }\n",
       "\n",
       "    .dataframe tbody tr th {\n",
       "        vertical-align: top;\n",
       "    }\n",
       "\n",
       "    .dataframe thead th {\n",
       "        text-align: right;\n",
       "    }\n",
       "</style>\n",
       "<table border=\"1\" class=\"dataframe\">\n",
       "  <thead>\n",
       "    <tr style=\"text-align: right;\">\n",
       "      <th></th>\n",
       "      <th>Sintomas</th>\n",
       "      <th>Ocorrencias</th>\n",
       "    </tr>\n",
       "  </thead>\n",
       "  <tbody>\n",
       "    <tr>\n",
       "      <th>0</th>\n",
       "      <td>Tosse</td>\n",
       "      <td>2876663</td>\n",
       "    </tr>\n",
       "    <tr>\n",
       "      <th>1</th>\n",
       "      <td>Coriza</td>\n",
       "      <td>2228076</td>\n",
       "    </tr>\n",
       "    <tr>\n",
       "      <th>2</th>\n",
       "      <td>Dor de Cabeça</td>\n",
       "      <td>2001757</td>\n",
       "    </tr>\n",
       "    <tr>\n",
       "      <th>3</th>\n",
       "      <td>Dor de Garganta</td>\n",
       "      <td>1880756</td>\n",
       "    </tr>\n",
       "    <tr>\n",
       "      <th>4</th>\n",
       "      <td>Febre</td>\n",
       "      <td>1617498</td>\n",
       "    </tr>\n",
       "  </tbody>\n",
       "</table>\n",
       "</div>"
      ],
      "text/plain": [
       "          Sintomas  Ocorrencias\n",
       "0            Tosse      2876663\n",
       "1           Coriza      2228076\n",
       "2    Dor de Cabeça      2001757\n",
       "3  Dor de Garganta      1880756\n",
       "4            Febre      1617498"
      ]
     },
     "execution_count": 16,
     "metadata": {},
     "output_type": "execute_result"
    }
   ],
   "source": [
    "#Criando um dataframe com base na contagem dos sintomas\n",
    "dfSintomas = pd.DataFrame(sintomas.value_counts(), columns=['count'])\n",
    "\n",
    "dfSintomas.reset_index(inplace=True)\n",
    "dfSintomas.columns = ['Sintomas', 'Ocorrencias']\n",
    "\n",
    "dfSintomas.head()"
   ]
  },
  {
   "cell_type": "code",
   "execution_count": 17,
   "id": "1c3db32e",
   "metadata": {
    "execution": {
     "iopub.execute_input": "2024-04-01T14:52:47.968179Z",
     "iopub.status.busy": "2024-04-01T14:52:47.967761Z",
     "iopub.status.idle": "2024-04-01T14:52:48.801063Z",
     "shell.execute_reply": "2024-04-01T14:52:48.799657Z"
    },
    "papermill": {
     "duration": 0.850745,
     "end_time": "2024-04-01T14:52:48.804045",
     "exception": false,
     "start_time": "2024-04-01T14:52:47.953300",
     "status": "completed"
    },
    "tags": []
   },
   "outputs": [
    {
     "data": {
      "text/plain": [
       "<Axes: xlabel='Sintomas', ylabel='Ocorrencias'>"
      ]
     },
     "execution_count": 17,
     "metadata": {},
     "output_type": "execute_result"
    },
    {
     "data": {
      "image/png": "[encoded data removed]",
      "text/plain": [
       "<Figure size 1200x600 with 1 Axes>"
      ]
     },
     "metadata": {},
     "output_type": "display_data"
    }
   ],
   "source": [
    "#Exibir gráfico usando o Seaborn\n",
    "plt.figure(figsize=(12,6))\n",
    "sns.barplot(data=dfSintomas, x='Sintomas', y='Ocorrencias', palette='mako')"
   ]
  },
  {
   "cell_type": "code",
   "execution_count": 18,
   "id": "f659a71c",
   "metadata": {
    "execution": {
     "iopub.execute_input": "2024-04-01T14:52:48.834475Z",
     "iopub.status.busy": "2024-04-01T14:52:48.834094Z",
     "iopub.status.idle": "2024-04-01T14:52:49.334156Z",
     "shell.execute_reply": "2024-04-01T14:52:49.332994Z"
    },
    "papermill": {
     "duration": 0.518691,
     "end_time": "2024-04-01T14:52:49.337097",
     "exception": false,
     "start_time": "2024-04-01T14:52:48.818406",
     "status": "completed"
    },
    "tags": []
   },
   "outputs": [
    {
     "data": {
      "text/plain": [
       "Text(0, 0.5, 'Total de ocorrências')"
      ]
     },
     "execution_count": 18,
     "metadata": {},
     "output_type": "execute_result"
    },
    {
     "data": {
      "image/png": "[encoded data removed]",
      "text/plain": [
       "<Figure size 2000x1000 with 1 Axes>"
      ]
     },
     "metadata": {},
     "output_type": "display_data"
    }
   ],
   "source": [
    "#Dá para aplicar alguns ajustes (tamanho do gráfico, títulos, etc...)\n",
    "plt.figure(figsize=(20,10))\n",
    "sns.barplot(data=dfSintomas, x='Sintomas', y='Ocorrencias', palette='mako')\n",
    "\n",
    "plt.title('Sintomas mais comuns\\nEstado de São Paulo', fontsize=24, fontweight='bold')\n",
    "plt.xlabel('Sintomas', fontsize=16, fontweight='bold')\n",
    "plt.ylabel('Total de ocorrências', fontsize=16, fontweight='bold')"
   ]
  },
  {
   "cell_type": "code",
   "execution_count": 19,
   "id": "c3cb817e",
   "metadata": {
    "execution": {
     "iopub.execute_input": "2024-04-01T14:52:49.369730Z",
     "iopub.status.busy": "2024-04-01T14:52:49.369354Z",
     "iopub.status.idle": "2024-04-01T14:52:49.383422Z",
     "shell.execute_reply": "2024-04-01T14:52:49.381986Z"
    },
    "papermill": {
     "duration": 0.033765,
     "end_time": "2024-04-01T14:52:49.386035",
     "exception": false,
     "start_time": "2024-04-01T14:52:49.352270",
     "status": "completed"
    },
    "tags": []
   },
   "outputs": [
    {
     "data": {
      "text/html": [
       "<div>\n",
       "<style scoped>\n",
       "    .dataframe tbody tr th:only-of-type {\n",
       "        vertical-align: middle;\n",
       "    }\n",
       "\n",
       "    .dataframe tbody tr th {\n",
       "        vertical-align: top;\n",
       "    }\n",
       "\n",
       "    .dataframe thead th {\n",
       "        text-align: right;\n",
       "    }\n",
       "</style>\n",
       "<table border=\"1\" class=\"dataframe\">\n",
       "  <thead>\n",
       "    <tr style=\"text-align: right;\">\n",
       "      <th></th>\n",
       "      <th>Sintomas</th>\n",
       "      <th>Ocorrencias</th>\n",
       "    </tr>\n",
       "  </thead>\n",
       "  <tbody>\n",
       "    <tr>\n",
       "      <th>0</th>\n",
       "      <td>Tosse</td>\n",
       "      <td>2876663</td>\n",
       "    </tr>\n",
       "    <tr>\n",
       "      <th>1</th>\n",
       "      <td>Coriza</td>\n",
       "      <td>2228076</td>\n",
       "    </tr>\n",
       "    <tr>\n",
       "      <th>2</th>\n",
       "      <td>Dor de Cabeça</td>\n",
       "      <td>2001757</td>\n",
       "    </tr>\n",
       "    <tr>\n",
       "      <th>3</th>\n",
       "      <td>Dor de Garganta</td>\n",
       "      <td>1880756</td>\n",
       "    </tr>\n",
       "    <tr>\n",
       "      <th>4</th>\n",
       "      <td>Febre</td>\n",
       "      <td>1617498</td>\n",
       "    </tr>\n",
       "    <tr>\n",
       "      <th>5</th>\n",
       "      <td>Outros</td>\n",
       "      <td>1050257</td>\n",
       "    </tr>\n",
       "    <tr>\n",
       "      <th>7</th>\n",
       "      <td>Dispneia</td>\n",
       "      <td>483116</td>\n",
       "    </tr>\n",
       "    <tr>\n",
       "      <th>8</th>\n",
       "      <td>Distúrbios Gustativos</td>\n",
       "      <td>192062</td>\n",
       "    </tr>\n",
       "    <tr>\n",
       "      <th>9</th>\n",
       "      <td>Distúrbios Olfativos</td>\n",
       "      <td>163290</td>\n",
       "    </tr>\n",
       "  </tbody>\n",
       "</table>\n",
       "</div>"
      ],
      "text/plain": [
       "                Sintomas  Ocorrencias\n",
       "0                  Tosse      2876663\n",
       "1                 Coriza      2228076\n",
       "2          Dor de Cabeça      2001757\n",
       "3        Dor de Garganta      1880756\n",
       "4                  Febre      1617498\n",
       "5                 Outros      1050257\n",
       "7               Dispneia       483116\n",
       "8  Distúrbios Gustativos       192062\n",
       "9   Distúrbios Olfativos       163290"
      ]
     },
     "execution_count": 19,
     "metadata": {},
     "output_type": "execute_result"
    }
   ],
   "source": [
    "#Se for parar para ver, não faz sentido ter \"Assintomático\", já que quero\n",
    "#ter uma lista dos sintomas mais comuns\n",
    "\n",
    "#Deletando tabela de \"Assintomáticos\"\n",
    "dfSintomas = dfSintomas.drop(dfSintomas[dfSintomas['Sintomas']=='Assintomático'].index)\n",
    "dfSintomas.head(10)"
   ]
  },
  {
   "cell_type": "code",
   "execution_count": 20,
   "id": "289192c8",
   "metadata": {
    "execution": {
     "iopub.execute_input": "2024-04-01T14:52:49.418971Z",
     "iopub.status.busy": "2024-04-01T14:52:49.418579Z",
     "iopub.status.idle": "2024-04-01T14:52:52.210012Z",
     "shell.execute_reply": "2024-04-01T14:52:52.208830Z"
    },
    "papermill": {
     "duration": 2.811048,
     "end_time": "2024-04-01T14:52:52.212624",
     "exception": false,
     "start_time": "2024-04-01T14:52:49.401576",
     "status": "completed"
    },
    "tags": []
   },
   "outputs": [
    {
     "data": {
      "text/plain": [
       "outrosSintomas\n",
       "MIALGIA             122380\n",
       "DOR NO CORPO         84064\n",
       "mialgia              29619\n",
       "DIARREIA             24358\n",
       "dor no corpo         21475\n",
       "CANSAÇO               9907\n",
       "FRAQUEZA              9147\n",
       "CONGESTÃO NASAL       8882\n",
       "DOR NAS COSTAS        8737\n",
       "VOMITO                7829\n",
       "ESPIRROS              7250\n",
       "MAL ESTAR             7172\n",
       "Mialgia               6630\n",
       "SINTOMAS GRIPAIS      6376\n",
       "diarreia              6289\n",
       "CONGESTAO NASAL       6010\n",
       "DOR NO PEITO          5811\n",
       "DOR DE OUVIDO         5635\n",
       "CALAFRIOS             5350\n",
       "ASSINTOMATICO         5283\n",
       "Name: sintomas, dtype: int64"
      ]
     },
     "execution_count": 20,
     "metadata": {},
     "output_type": "execute_result"
    }
   ],
   "source": [
    "#Verificar a composição do grupo de \"outros\" sintomas no dataframe principal\n",
    "dfSP[dfSP['outrosSintomas'].notna()].groupby(['outrosSintomas'])['sintomas'].count().sort_values(ascending=False).head(20)"
   ]
  },
  {
   "cell_type": "code",
   "execution_count": 21,
   "id": "61d8ca69",
   "metadata": {
    "execution": {
     "iopub.execute_input": "2024-04-01T14:52:52.245956Z",
     "iopub.status.busy": "2024-04-01T14:52:52.245523Z",
     "iopub.status.idle": "2024-04-01T14:53:09.564071Z",
     "shell.execute_reply": "2024-04-01T14:53:09.562708Z"
    },
    "papermill": {
     "duration": 17.33946,
     "end_time": "2024-04-01T14:53:09.567728",
     "exception": false,
     "start_time": "2024-04-01T14:52:52.228268",
     "status": "completed"
    },
    "tags": []
   },
   "outputs": [],
   "source": [
    "#Copiando o dataframe dfSP para não poluir o original\n",
    "dfSPoutros = dfSP.copy()"
   ]
  },
  {
   "cell_type": "code",
   "execution_count": 22,
   "id": "dd7b3e62",
   "metadata": {
    "execution": {
     "iopub.execute_input": "2024-04-01T14:53:09.601564Z",
     "iopub.status.busy": "2024-04-01T14:53:09.601165Z",
     "iopub.status.idle": "2024-04-01T14:53:28.340439Z",
     "shell.execute_reply": "2024-04-01T14:53:28.339267Z"
    },
    "papermill": {
     "duration": 18.759476,
     "end_time": "2024-04-01T14:53:28.343017",
     "exception": false,
     "start_time": "2024-04-01T14:53:09.583541",
     "status": "completed"
    },
    "tags": []
   },
   "outputs": [
    {
     "data": {
      "text/plain": [
       "outrosSintomas\n",
       "Mialgia                           328655\n",
       "Fadiga                             40457\n",
       "Espirros                           37054\n",
       "Diarréia                           36383\n",
       "Coriza                             35053\n",
       "Vômito                             15388\n",
       "Assintomático                      10450\n",
       "Náusea                              7572\n",
       "Dispneia                            6677\n",
       "Dor de cabeça                       5369\n",
       "Tontura                             5276\n",
       "Rouquidão                           4940\n",
       "Odinofagia                          4090\n",
       "Outros Sintomas não informados      1881\n",
       "PROTOCOLO INSTITUCIONAL             1566\n",
       "Name: sintomas, dtype: int64"
      ]
     },
     "execution_count": 22,
     "metadata": {},
     "output_type": "execute_result"
    }
   ],
   "source": [
    "#Mialgia, dor no corpo e etc... são a mesma coisa\n",
    "#Existem vários itens parecidos, como diarréia, fraqueza/fadiga,\n",
    "#congestão nasal (é coriza).\n",
    "\n",
    "#Setando todos esses para o mesmo valor comum\n",
    "\n",
    "#Mialgia\n",
    "dfSPoutros.loc[dfSPoutros['outrosSintomas'].str.lower().isin([\n",
    "    'dor no corpo',\n",
    "    'mialgia',\n",
    "    'dor nas costas',\n",
    "    'dor no peito',\n",
    "    'dor abdominal',\n",
    "    'dor de ouvido',\n",
    "    'dores no corpo',\n",
    "    'dor corpo',\n",
    "    'dorsalgia',\n",
    "    'dor nos olhos',\n",
    "    'dor toracica',\n",
    "    'dor no corpo.',\n",
    "    'otalgia',\n",
    "    'mialgia.',\n",
    "    'dor lombar',\n",
    "    'dor muscular',\n",
    "    'dor no ouvido',\n",
    "    'dor na face']), 'outrosSintomas'] = 'Mialgia'\n",
    "\n",
    "#Diarréia\n",
    "dfSPoutros.loc[dfSPoutros['outrosSintomas'].str.lower().isin(\n",
    "    ['diarreia', 'diarréia']), 'outrosSintomas'] = 'Diarréia'\n",
    "\n",
    "#Fadiga\n",
    "dfSPoutros.loc[dfSPoutros['outrosSintomas'].str.lower().isin(\n",
    "    ['cansaço', 'fraqueza', 'mal estar', 'fadiga']), 'outrosSintomas'] = 'Fadiga'\n",
    "\n",
    "#Coriza\n",
    "dfSPoutros.loc[dfSPoutros['outrosSintomas'].str.lower().isin(\n",
    "    ['congestão nasal', 'congestao nasal', 'coriza', 'obstrução nasal']), 'outrosSintomas'] = 'Coriza'\n",
    "\n",
    "#Vômito\n",
    "dfSPoutros.loc[dfSPoutros['outrosSintomas'].str.lower().isin(\n",
    "    ['vomito', 'vômito', 'vomitos', 'vômitos']), 'outrosSintomas'] = 'Vômito'\n",
    "\n",
    "#Náusea\n",
    "dfSPoutros.loc[dfSPoutros['outrosSintomas'].str.lower().isin(\n",
    "    ['nausea', 'náusea', 'nauseas', 'náuseas']), 'outrosSintomas'] = 'Náusea'\n",
    "\n",
    "#Tontura\n",
    "dfSPoutros.loc[dfSPoutros['outrosSintomas'].str.lower().isin(\n",
    "    ['tontura', 'tonturas']), 'outrosSintomas'] = 'Tontura'\n",
    "\n",
    "#Dor de cabeça\n",
    "dfSPoutros.loc[dfSPoutros['outrosSintomas'].str.lower() == 'cefaleia', 'outrosSintomas'] = 'Dor de cabeça'\n",
    "\n",
    "#Dispneia\n",
    "dfSPoutros.loc[dfSPoutros['outrosSintomas'].str.lower() == 'falta de ar', 'outrosSintomas'] = 'Dispneia'\n",
    "\n",
    "#Calafrios\n",
    "dfSPoutros.loc[dfSPoutros['outrosSintomas'].str.lower().isin(\n",
    "    ['calafrios', 'calafrio']), 'outrosSintomas'] = 'Coriza'\n",
    "\n",
    "#Espirros\n",
    "dfSPoutros.loc[dfSPoutros['outrosSintomas'].str.lower().isin(\n",
    "    ['espirros', 'espirro', 'sintomas gripais', 'gripe', 'gripal', 'sindrome gripal']), 'outrosSintomas'] = 'Espirros'\n",
    "\n",
    "#Odinofagia\n",
    "dfSPoutros.loc[dfSPoutros['outrosSintomas'].str.lower() == 'odinofagia', 'outrosSintomas'] = 'Odinofagia'\n",
    "\n",
    "#Assintomático\n",
    "dfSPoutros.loc[dfSPoutros['outrosSintomas'].str.lower().isin(\n",
    "    ['assintomatico', 'assintomático']), 'outrosSintomas'] = 'Assintomático'\n",
    "\n",
    "#Rouquidão\n",
    "dfSPoutros.loc[dfSPoutros['outrosSintomas'].str.lower().isin(\n",
    "    ['rouquidão', 'rouquidao']), 'outrosSintomas'] = 'Rouquidão'\n",
    "\n",
    "dfSPoutros[dfSPoutros['outrosSintomas'].notna()].groupby(['outrosSintomas'])['sintomas'].count().sort_values(ascending=False).head(15)"
   ]
  },
  {
   "cell_type": "code",
   "execution_count": 23,
   "id": "8b95edd3",
   "metadata": {
    "execution": {
     "iopub.execute_input": "2024-04-01T14:53:28.376316Z",
     "iopub.status.busy": "2024-04-01T14:53:28.375893Z",
     "iopub.status.idle": "2024-04-01T14:53:29.001529Z",
     "shell.execute_reply": "2024-04-01T14:53:29.000357Z"
    },
    "papermill": {
     "duration": 0.645167,
     "end_time": "2024-04-01T14:53:29.004078",
     "exception": false,
     "start_time": "2024-04-01T14:53:28.358911",
     "status": "completed"
    },
    "tags": []
   },
   "outputs": [
    {
     "data": {
      "text/html": [
       "<div>\n",
       "<style scoped>\n",
       "    .dataframe tbody tr th:only-of-type {\n",
       "        vertical-align: middle;\n",
       "    }\n",
       "\n",
       "    .dataframe tbody tr th {\n",
       "        vertical-align: top;\n",
       "    }\n",
       "\n",
       "    .dataframe thead th {\n",
       "        text-align: right;\n",
       "    }\n",
       "</style>\n",
       "<table border=\"1\" class=\"dataframe\">\n",
       "  <thead>\n",
       "    <tr style=\"text-align: right;\">\n",
       "      <th></th>\n",
       "      <th>Sintomas</th>\n",
       "      <th>Ocorrencias</th>\n",
       "    </tr>\n",
       "  </thead>\n",
       "  <tbody>\n",
       "    <tr>\n",
       "      <th>0</th>\n",
       "      <td>Mialgia</td>\n",
       "      <td>328655</td>\n",
       "    </tr>\n",
       "    <tr>\n",
       "      <th>1</th>\n",
       "      <td>Fadiga</td>\n",
       "      <td>40457</td>\n",
       "    </tr>\n",
       "    <tr>\n",
       "      <th>2</th>\n",
       "      <td>Espirros</td>\n",
       "      <td>37054</td>\n",
       "    </tr>\n",
       "    <tr>\n",
       "      <th>3</th>\n",
       "      <td>Diarréia</td>\n",
       "      <td>36383</td>\n",
       "    </tr>\n",
       "    <tr>\n",
       "      <th>4</th>\n",
       "      <td>Coriza</td>\n",
       "      <td>35053</td>\n",
       "    </tr>\n",
       "    <tr>\n",
       "      <th>5</th>\n",
       "      <td>Vômito</td>\n",
       "      <td>15388</td>\n",
       "    </tr>\n",
       "    <tr>\n",
       "      <th>6</th>\n",
       "      <td>Assintomático</td>\n",
       "      <td>10450</td>\n",
       "    </tr>\n",
       "    <tr>\n",
       "      <th>7</th>\n",
       "      <td>Náusea</td>\n",
       "      <td>7572</td>\n",
       "    </tr>\n",
       "    <tr>\n",
       "      <th>8</th>\n",
       "      <td>Dispneia</td>\n",
       "      <td>6677</td>\n",
       "    </tr>\n",
       "    <tr>\n",
       "      <th>9</th>\n",
       "      <td>Dor de cabeça</td>\n",
       "      <td>5369</td>\n",
       "    </tr>\n",
       "    <tr>\n",
       "      <th>10</th>\n",
       "      <td>Tontura</td>\n",
       "      <td>5276</td>\n",
       "    </tr>\n",
       "    <tr>\n",
       "      <th>11</th>\n",
       "      <td>Rouquidão</td>\n",
       "      <td>4940</td>\n",
       "    </tr>\n",
       "    <tr>\n",
       "      <th>12</th>\n",
       "      <td>Odinofagia</td>\n",
       "      <td>4090</td>\n",
       "    </tr>\n",
       "    <tr>\n",
       "      <th>13</th>\n",
       "      <td>Outros Sintomas não informados</td>\n",
       "      <td>1881</td>\n",
       "    </tr>\n",
       "    <tr>\n",
       "      <th>14</th>\n",
       "      <td>PROTOCOLO INSTITUCIONAL</td>\n",
       "      <td>1566</td>\n",
       "    </tr>\n",
       "  </tbody>\n",
       "</table>\n",
       "</div>"
      ],
      "text/plain": [
       "                          Sintomas  Ocorrencias\n",
       "0                          Mialgia       328655\n",
       "1                           Fadiga        40457\n",
       "2                         Espirros        37054\n",
       "3                         Diarréia        36383\n",
       "4                           Coriza        35053\n",
       "5                           Vômito        15388\n",
       "6                    Assintomático        10450\n",
       "7                           Náusea         7572\n",
       "8                         Dispneia         6677\n",
       "9                    Dor de cabeça         5369\n",
       "10                         Tontura         5276\n",
       "11                       Rouquidão         4940\n",
       "12                      Odinofagia         4090\n",
       "13  Outros Sintomas não informados         1881\n",
       "14         PROTOCOLO INSTITUCIONAL         1566"
      ]
     },
     "execution_count": 23,
     "metadata": {},
     "output_type": "execute_result"
    }
   ],
   "source": [
    "#Criando dataframe com base na soma de valores de outros sintomas\n",
    "dfOutros = pd.DataFrame(dfSPoutros['outrosSintomas'].value_counts(), columns=['count'])\n",
    "\n",
    "dfOutros.reset_index(inplace=True)\n",
    "dfOutros.columns = ['Sintomas', 'Ocorrencias']\n",
    "\n",
    "dfOutros.head(15)"
   ]
  },
  {
   "cell_type": "code",
   "execution_count": 24,
   "id": "bc695d60",
   "metadata": {
    "execution": {
     "iopub.execute_input": "2024-04-01T14:53:29.037997Z",
     "iopub.status.busy": "2024-04-01T14:53:29.037591Z",
     "iopub.status.idle": "2024-04-01T14:53:29.049988Z",
     "shell.execute_reply": "2024-04-01T14:53:29.048875Z"
    },
    "papermill": {
     "duration": 0.0324,
     "end_time": "2024-04-01T14:53:29.052591",
     "exception": false,
     "start_time": "2024-04-01T14:53:29.020191",
     "status": "completed"
    },
    "tags": []
   },
   "outputs": [
    {
     "data": {
      "text/html": [
       "<div>\n",
       "<style scoped>\n",
       "    .dataframe tbody tr th:only-of-type {\n",
       "        vertical-align: middle;\n",
       "    }\n",
       "\n",
       "    .dataframe tbody tr th {\n",
       "        vertical-align: top;\n",
       "    }\n",
       "\n",
       "    .dataframe thead th {\n",
       "        text-align: right;\n",
       "    }\n",
       "</style>\n",
       "<table border=\"1\" class=\"dataframe\">\n",
       "  <thead>\n",
       "    <tr style=\"text-align: right;\">\n",
       "      <th></th>\n",
       "      <th>Sintomas</th>\n",
       "      <th>Ocorrencias</th>\n",
       "    </tr>\n",
       "  </thead>\n",
       "  <tbody>\n",
       "    <tr>\n",
       "      <th>0</th>\n",
       "      <td>Tosse</td>\n",
       "      <td>2876663</td>\n",
       "    </tr>\n",
       "    <tr>\n",
       "      <th>1</th>\n",
       "      <td>Coriza</td>\n",
       "      <td>2228076</td>\n",
       "    </tr>\n",
       "    <tr>\n",
       "      <th>2</th>\n",
       "      <td>Dor de Cabeça</td>\n",
       "      <td>2001757</td>\n",
       "    </tr>\n",
       "    <tr>\n",
       "      <th>3</th>\n",
       "      <td>Dor de Garganta</td>\n",
       "      <td>1880756</td>\n",
       "    </tr>\n",
       "    <tr>\n",
       "      <th>4</th>\n",
       "      <td>Febre</td>\n",
       "      <td>1617498</td>\n",
       "    </tr>\n",
       "    <tr>\n",
       "      <th>5</th>\n",
       "      <td>Outros</td>\n",
       "      <td>1050257</td>\n",
       "    </tr>\n",
       "    <tr>\n",
       "      <th>6</th>\n",
       "      <td>Dispneia</td>\n",
       "      <td>483116</td>\n",
       "    </tr>\n",
       "    <tr>\n",
       "      <th>7</th>\n",
       "      <td>Distúrbios Gustativos</td>\n",
       "      <td>192062</td>\n",
       "    </tr>\n",
       "    <tr>\n",
       "      <th>8</th>\n",
       "      <td>Distúrbios Olfativos</td>\n",
       "      <td>163290</td>\n",
       "    </tr>\n",
       "    <tr>\n",
       "      <th>9</th>\n",
       "      <td>Mialgia</td>\n",
       "      <td>328655</td>\n",
       "    </tr>\n",
       "    <tr>\n",
       "      <th>10</th>\n",
       "      <td>Fadiga</td>\n",
       "      <td>40457</td>\n",
       "    </tr>\n",
       "    <tr>\n",
       "      <th>11</th>\n",
       "      <td>Espirros</td>\n",
       "      <td>37054</td>\n",
       "    </tr>\n",
       "    <tr>\n",
       "      <th>12</th>\n",
       "      <td>Diarréia</td>\n",
       "      <td>36383</td>\n",
       "    </tr>\n",
       "  </tbody>\n",
       "</table>\n",
       "</div>"
      ],
      "text/plain": [
       "                 Sintomas  Ocorrencias\n",
       "0                   Tosse      2876663\n",
       "1                  Coriza      2228076\n",
       "2           Dor de Cabeça      2001757\n",
       "3         Dor de Garganta      1880756\n",
       "4                   Febre      1617498\n",
       "5                  Outros      1050257\n",
       "6                Dispneia       483116\n",
       "7   Distúrbios Gustativos       192062\n",
       "8    Distúrbios Olfativos       163290\n",
       "9                 Mialgia       328655\n",
       "10                 Fadiga        40457\n",
       "11               Espirros        37054\n",
       "12               Diarréia        36383"
      ]
     },
     "execution_count": 24,
     "metadata": {},
     "output_type": "execute_result"
    }
   ],
   "source": [
    "#Ajustando o dataframe final com a contagem de valores\n",
    "#Adicionando os dados de Mialgia, Fadiga, Espirros e Diarréia como novos sintomas\n",
    "dfSintomas = pd.concat([dfSintomas, dfOutros.iloc[:4]], ignore_index=True)\n",
    "\n",
    "dfSintomas.head(15)"
   ]
  },
  {
   "cell_type": "code",
   "execution_count": 25,
   "id": "3856a0f3",
   "metadata": {
    "execution": {
     "iopub.execute_input": "2024-04-01T14:53:29.087379Z",
     "iopub.status.busy": "2024-04-01T14:53:29.086998Z",
     "iopub.status.idle": "2024-04-01T14:53:29.295872Z",
     "shell.execute_reply": "2024-04-01T14:53:29.294439Z"
    },
    "papermill": {
     "duration": 0.229791,
     "end_time": "2024-04-01T14:53:29.298724",
     "exception": false,
     "start_time": "2024-04-01T14:53:29.068933",
     "status": "completed"
    },
    "tags": []
   },
   "outputs": [
    {
     "name": "stdout",
     "output_type": "stream",
     "text": [
      "Coriza antes: 2228076 \n",
      "Coriza depois: 2263129 \n",
      "Dor de cabeça antes: 2001757 \n",
      "Dor de cabeça depois: 2007126 \n",
      "Dispneia antes: 483116 \n",
      "Dispneia depois: 489793 \n",
      "Assintomáticos: 10450 \n",
      "Total de outros sintomas: 604091 \n",
      "Novo total de outros sintomas: 546542\n"
     ]
    }
   ],
   "source": [
    "#Contando o restante dos outros sintomas\n",
    "\n",
    "coriza = dfSintomas[dfSintomas['Sintomas'] == 'Coriza']['Ocorrencias'].iloc[0]\n",
    "maisCoriza = dfOutros[dfOutros['Sintomas'] == 'Coriza']['Ocorrencias'].iloc[0]\n",
    "\n",
    "dorCabeca = dfSintomas[dfSintomas['Sintomas'] == 'Dor de Cabeça']['Ocorrencias'].iloc[0]\n",
    "maisDorCabeca = dfOutros[dfOutros['Sintomas'] == 'Dor de cabeça']['Ocorrencias'].iloc[0]\n",
    "\n",
    "dispneia = dfSintomas[dfSintomas['Sintomas'] == 'Dispneia']['Ocorrencias'].iloc[0]\n",
    "maisDispneia = dfOutros[dfOutros['Sintomas'] == 'Dispneia']['Ocorrencias'].iloc[0]\n",
    "\n",
    "assintomaticos = dfOutros[dfOutros['Sintomas'] == 'Assintomático']['Ocorrencias'].iloc[0]\n",
    "\n",
    "#Contando a quantidade de outros (estou contabilizando somente aqueles valores\n",
    "#que foram marcados como 'Outros', mas que também responderam alguma coisa)\n",
    "outros = dfOutros.iloc[4:]['Ocorrencias'].sum()\n",
    "#novoOutros = dfSintomas[dfSintomas['Sintomas'] == 'Outros']['Ocorrencias'].iloc[0]\n",
    "novoOutros = outros - maisCoriza - maisDorCabeca - maisDispneia - assintomaticos\n",
    "\n",
    "print('Coriza antes:', coriza,\n",
    "      '\\nCoriza depois:', coriza + maisCoriza,\n",
    "      '\\nDor de cabeça antes:', dorCabeca,\n",
    "      '\\nDor de cabeça depois:', dorCabeca + maisDorCabeca,\n",
    "      '\\nDispneia antes:', dispneia,\n",
    "      '\\nDispneia depois:', dispneia + maisDispneia,\n",
    "      '\\nAssintomáticos:', assintomaticos,\n",
    "      '\\nTotal de outros sintomas:', outros,\n",
    "      '\\nNovo total de outros sintomas:', novoOutros)\n"
   ]
  },
  {
   "cell_type": "code",
   "execution_count": 26,
   "id": "c14319ab",
   "metadata": {
    "execution": {
     "iopub.execute_input": "2024-04-01T14:53:29.333120Z",
     "iopub.status.busy": "2024-04-01T14:53:29.332687Z",
     "iopub.status.idle": "2024-04-01T14:53:29.342279Z",
     "shell.execute_reply": "2024-04-01T14:53:29.341261Z"
    },
    "papermill": {
     "duration": 0.029721,
     "end_time": "2024-04-01T14:53:29.344897",
     "exception": false,
     "start_time": "2024-04-01T14:53:29.315176",
     "status": "completed"
    },
    "tags": []
   },
   "outputs": [],
   "source": [
    "#Setando novos valores no dataframe final\n",
    "dfSintomas.loc[dfSintomas['Sintomas'] == 'Outros', 'Ocorrencias'] = novoOutros\n",
    "dfSintomas.loc[dfSintomas['Sintomas'] == 'Coriza', 'Ocorrencias'] = coriza + maisCoriza\n",
    "dfSintomas.loc[dfSintomas['Sintomas'] == 'Dor de Cabeça', 'Ocorrencias'] = dorCabeca + maisDorCabeca\n",
    "dfSintomas.loc[dfSintomas['Sintomas'] == 'Dispneia', 'Ocorrencias'] = dispneia + maisDispneia"
   ]
  },
  {
   "cell_type": "code",
   "execution_count": 27,
   "id": "e2ec127d",
   "metadata": {
    "execution": {
     "iopub.execute_input": "2024-04-01T14:53:29.379842Z",
     "iopub.status.busy": "2024-04-01T14:53:29.379423Z",
     "iopub.status.idle": "2024-04-01T14:53:29.390609Z",
     "shell.execute_reply": "2024-04-01T14:53:29.389553Z"
    },
    "papermill": {
     "duration": 0.031652,
     "end_time": "2024-04-01T14:53:29.393064",
     "exception": false,
     "start_time": "2024-04-01T14:53:29.361412",
     "status": "completed"
    },
    "tags": []
   },
   "outputs": [
    {
     "data": {
      "text/html": [
       "<div>\n",
       "<style scoped>\n",
       "    .dataframe tbody tr th:only-of-type {\n",
       "        vertical-align: middle;\n",
       "    }\n",
       "\n",
       "    .dataframe tbody tr th {\n",
       "        vertical-align: top;\n",
       "    }\n",
       "\n",
       "    .dataframe thead th {\n",
       "        text-align: right;\n",
       "    }\n",
       "</style>\n",
       "<table border=\"1\" class=\"dataframe\">\n",
       "  <thead>\n",
       "    <tr style=\"text-align: right;\">\n",
       "      <th></th>\n",
       "      <th>Sintomas</th>\n",
       "      <th>Ocorrencias</th>\n",
       "    </tr>\n",
       "  </thead>\n",
       "  <tbody>\n",
       "    <tr>\n",
       "      <th>0</th>\n",
       "      <td>Tosse</td>\n",
       "      <td>2876663</td>\n",
       "    </tr>\n",
       "    <tr>\n",
       "      <th>1</th>\n",
       "      <td>Coriza</td>\n",
       "      <td>2263129</td>\n",
       "    </tr>\n",
       "    <tr>\n",
       "      <th>2</th>\n",
       "      <td>Dor de Cabeça</td>\n",
       "      <td>2007126</td>\n",
       "    </tr>\n",
       "    <tr>\n",
       "      <th>3</th>\n",
       "      <td>Dor de Garganta</td>\n",
       "      <td>1880756</td>\n",
       "    </tr>\n",
       "    <tr>\n",
       "      <th>4</th>\n",
       "      <td>Febre</td>\n",
       "      <td>1617498</td>\n",
       "    </tr>\n",
       "    <tr>\n",
       "      <th>5</th>\n",
       "      <td>Outros</td>\n",
       "      <td>546542</td>\n",
       "    </tr>\n",
       "    <tr>\n",
       "      <th>6</th>\n",
       "      <td>Dispneia</td>\n",
       "      <td>489793</td>\n",
       "    </tr>\n",
       "    <tr>\n",
       "      <th>7</th>\n",
       "      <td>Distúrbios Gustativos</td>\n",
       "      <td>192062</td>\n",
       "    </tr>\n",
       "    <tr>\n",
       "      <th>8</th>\n",
       "      <td>Distúrbios Olfativos</td>\n",
       "      <td>163290</td>\n",
       "    </tr>\n",
       "    <tr>\n",
       "      <th>9</th>\n",
       "      <td>Mialgia</td>\n",
       "      <td>328655</td>\n",
       "    </tr>\n",
       "    <tr>\n",
       "      <th>10</th>\n",
       "      <td>Fadiga</td>\n",
       "      <td>40457</td>\n",
       "    </tr>\n",
       "    <tr>\n",
       "      <th>11</th>\n",
       "      <td>Espirros</td>\n",
       "      <td>37054</td>\n",
       "    </tr>\n",
       "    <tr>\n",
       "      <th>12</th>\n",
       "      <td>Diarréia</td>\n",
       "      <td>36383</td>\n",
       "    </tr>\n",
       "  </tbody>\n",
       "</table>\n",
       "</div>"
      ],
      "text/plain": [
       "                 Sintomas  Ocorrencias\n",
       "0                   Tosse      2876663\n",
       "1                  Coriza      2263129\n",
       "2           Dor de Cabeça      2007126\n",
       "3         Dor de Garganta      1880756\n",
       "4                   Febre      1617498\n",
       "5                  Outros       546542\n",
       "6                Dispneia       489793\n",
       "7   Distúrbios Gustativos       192062\n",
       "8    Distúrbios Olfativos       163290\n",
       "9                 Mialgia       328655\n",
       "10                 Fadiga        40457\n",
       "11               Espirros        37054\n",
       "12               Diarréia        36383"
      ]
     },
     "execution_count": 27,
     "metadata": {},
     "output_type": "execute_result"
    }
   ],
   "source": [
    "#Exibindo resultado final\n",
    "dfSintomas.head(15)"
   ]
  },
  {
   "cell_type": "code",
   "execution_count": 28,
   "id": "b4a37883",
   "metadata": {
    "execution": {
     "iopub.execute_input": "2024-04-01T14:53:29.427873Z",
     "iopub.status.busy": "2024-04-01T14:53:29.427392Z",
     "iopub.status.idle": "2024-04-01T14:53:29.440817Z",
     "shell.execute_reply": "2024-04-01T14:53:29.439628Z"
    },
    "papermill": {
     "duration": 0.033443,
     "end_time": "2024-04-01T14:53:29.443153",
     "exception": false,
     "start_time": "2024-04-01T14:53:29.409710",
     "status": "completed"
    },
    "tags": []
   },
   "outputs": [
    {
     "data": {
      "text/html": [
       "<div>\n",
       "<style scoped>\n",
       "    .dataframe tbody tr th:only-of-type {\n",
       "        vertical-align: middle;\n",
       "    }\n",
       "\n",
       "    .dataframe tbody tr th {\n",
       "        vertical-align: top;\n",
       "    }\n",
       "\n",
       "    .dataframe thead th {\n",
       "        text-align: right;\n",
       "    }\n",
       "</style>\n",
       "<table border=\"1\" class=\"dataframe\">\n",
       "  <thead>\n",
       "    <tr style=\"text-align: right;\">\n",
       "      <th></th>\n",
       "      <th>Sintomas</th>\n",
       "      <th>Ocorrencias</th>\n",
       "    </tr>\n",
       "  </thead>\n",
       "  <tbody>\n",
       "    <tr>\n",
       "      <th>0</th>\n",
       "      <td>Tosse</td>\n",
       "      <td>2876663</td>\n",
       "    </tr>\n",
       "    <tr>\n",
       "      <th>1</th>\n",
       "      <td>Coriza</td>\n",
       "      <td>2263129</td>\n",
       "    </tr>\n",
       "    <tr>\n",
       "      <th>2</th>\n",
       "      <td>Dor de Cabeça</td>\n",
       "      <td>2007126</td>\n",
       "    </tr>\n",
       "    <tr>\n",
       "      <th>3</th>\n",
       "      <td>Dor de Garganta</td>\n",
       "      <td>1880756</td>\n",
       "    </tr>\n",
       "    <tr>\n",
       "      <th>4</th>\n",
       "      <td>Febre</td>\n",
       "      <td>1617498</td>\n",
       "    </tr>\n",
       "    <tr>\n",
       "      <th>5</th>\n",
       "      <td>Outros</td>\n",
       "      <td>546542</td>\n",
       "    </tr>\n",
       "    <tr>\n",
       "      <th>6</th>\n",
       "      <td>Dispneia</td>\n",
       "      <td>489793</td>\n",
       "    </tr>\n",
       "    <tr>\n",
       "      <th>9</th>\n",
       "      <td>Mialgia</td>\n",
       "      <td>328655</td>\n",
       "    </tr>\n",
       "    <tr>\n",
       "      <th>7</th>\n",
       "      <td>Distúrbios Gustativos</td>\n",
       "      <td>192062</td>\n",
       "    </tr>\n",
       "    <tr>\n",
       "      <th>8</th>\n",
       "      <td>Distúrbios Olfativos</td>\n",
       "      <td>163290</td>\n",
       "    </tr>\n",
       "    <tr>\n",
       "      <th>10</th>\n",
       "      <td>Fadiga</td>\n",
       "      <td>40457</td>\n",
       "    </tr>\n",
       "    <tr>\n",
       "      <th>11</th>\n",
       "      <td>Espirros</td>\n",
       "      <td>37054</td>\n",
       "    </tr>\n",
       "    <tr>\n",
       "      <th>12</th>\n",
       "      <td>Diarréia</td>\n",
       "      <td>36383</td>\n",
       "    </tr>\n",
       "  </tbody>\n",
       "</table>\n",
       "</div>"
      ],
      "text/plain": [
       "                 Sintomas  Ocorrencias\n",
       "0                   Tosse      2876663\n",
       "1                  Coriza      2263129\n",
       "2           Dor de Cabeça      2007126\n",
       "3         Dor de Garganta      1880756\n",
       "4                   Febre      1617498\n",
       "5                  Outros       546542\n",
       "6                Dispneia       489793\n",
       "9                 Mialgia       328655\n",
       "7   Distúrbios Gustativos       192062\n",
       "8    Distúrbios Olfativos       163290\n",
       "10                 Fadiga        40457\n",
       "11               Espirros        37054\n",
       "12               Diarréia        36383"
      ]
     },
     "execution_count": 28,
     "metadata": {},
     "output_type": "execute_result"
    }
   ],
   "source": [
    "#Organizando os valores de acordo com a quantidade de ocorrências\n",
    "dfSintomas = dfSintomas.sort_values(by=['Ocorrencias'], ascending=False)\n",
    "dfSintomas.head(15)"
   ]
  },
  {
   "cell_type": "code",
   "execution_count": 29,
   "id": "808196ab",
   "metadata": {
    "execution": {
     "iopub.execute_input": "2024-04-01T14:53:29.480081Z",
     "iopub.status.busy": "2024-04-01T14:53:29.479389Z",
     "iopub.status.idle": "2024-04-01T14:53:30.123020Z",
     "shell.execute_reply": "2024-04-01T14:53:30.121730Z"
    },
    "papermill": {
     "duration": 0.66491,
     "end_time": "2024-04-01T14:53:30.126086",
     "exception": false,
     "start_time": "2024-04-01T14:53:29.461176",
     "status": "completed"
    },
    "tags": []
   },
   "outputs": [
    {
     "data": {
      "text/plain": [
       "Text(0, 0.5, 'Total de ocorrências')"
      ]
     },
     "execution_count": 29,
     "metadata": {},
     "output_type": "execute_result"
    },
    {
     "data": {
      "image/png": "[encoded data removed]",
      "text/plain": [
       "<Figure size 3000x1600 with 1 Axes>"
      ]
     },
     "metadata": {},
     "output_type": "display_data"
    }
   ],
   "source": [
    "#Plotando o gráfico final\n",
    "plt.figure(figsize=(30,16))\n",
    "sns.barplot(data=dfSintomas, x='Sintomas', y='Ocorrencias', palette='mako')\n",
    "\n",
    "plt.title('Sintomas mais comuns\\nEstado de São Paulo', fontsize=24, fontweight='bold')\n",
    "plt.xlabel('Sintomas', fontsize=16, fontweight='bold')\n",
    "plt.ylabel('Total de ocorrências', fontsize=16, fontweight='bold')"
   ]
  },
  {
   "cell_type": "code",
   "execution_count": 30,
   "id": "fca590ec",
   "metadata": {
    "execution": {
     "iopub.execute_input": "2024-04-01T14:53:30.167131Z",
     "iopub.status.busy": "2024-04-01T14:53:30.166685Z",
     "iopub.status.idle": "2024-04-01T14:53:30.601885Z",
     "shell.execute_reply": "2024-04-01T14:53:30.600632Z"
    },
    "papermill": {
     "duration": 0.459931,
     "end_time": "2024-04-01T14:53:30.605571",
     "exception": false,
     "start_time": "2024-04-01T14:53:30.145640",
     "status": "completed"
    },
    "tags": []
   },
   "outputs": [
    {
     "data": {
      "text/plain": [
       "Text(0.5, 1.0, 'Sintomas mais comuns\\nEstado de São Paulo')"
      ]
     },
     "execution_count": 30,
     "metadata": {},
     "output_type": "execute_result"
    },
    {
     "data": {
      "image/png": "[encoded data removed]",
      "text/plain": [
       "<Figure size 1600x1600 with 1 Axes>"
      ]
     },
     "metadata": {},
     "output_type": "display_data"
    }
   ],
   "source": [
    "#Plotando um gráfico de pizza\n",
    "plt.figure(figsize=(16,16))\n",
    "plt.pie(dfSintomas['Ocorrencias'], labels=dfSintomas['Sintomas'])\n",
    "\n",
    "plt.title('Sintomas mais comuns\\nEstado de São Paulo', fontsize=24, fontweight='bold')\n",
    "#plt.xlabel('Sintomas', fontsize=16, fontweight='bold')\n",
    "#plt.ylabel('Total de ocorrências', fontsize=16, fontweight='bold')"
   ]
  },
  {
   "cell_type": "code",
   "execution_count": 31,
   "id": "af9aec40",
   "metadata": {
    "execution": {
     "iopub.execute_input": "2024-04-01T14:53:30.649349Z",
     "iopub.status.busy": "2024-04-01T14:53:30.648937Z",
     "iopub.status.idle": "2024-04-01T14:53:31.113607Z",
     "shell.execute_reply": "2024-04-01T14:53:31.112479Z"
    },
    "papermill": {
     "duration": 0.4894,
     "end_time": "2024-04-01T14:53:31.116210",
     "exception": false,
     "start_time": "2024-04-01T14:53:30.626810",
     "status": "completed"
    },
    "tags": []
   },
   "outputs": [
    {
     "data": {
      "text/html": [
       "<div>\n",
       "<style scoped>\n",
       "    .dataframe tbody tr th:only-of-type {\n",
       "        vertical-align: middle;\n",
       "    }\n",
       "\n",
       "    .dataframe tbody tr th {\n",
       "        vertical-align: top;\n",
       "    }\n",
       "\n",
       "    .dataframe thead th {\n",
       "        text-align: right;\n",
       "    }\n",
       "</style>\n",
       "<table border=\"1\" class=\"dataframe\">\n",
       "  <thead>\n",
       "    <tr style=\"text-align: right;\">\n",
       "      <th></th>\n",
       "      <th>sintomas</th>\n",
       "      <th>profissionalSaude</th>\n",
       "      <th>racaCor</th>\n",
       "      <th>outrosSintomas</th>\n",
       "      <th>outrasCondicoes</th>\n",
       "      <th>profissionalSeguranca</th>\n",
       "      <th>cbo</th>\n",
       "      <th>condicoes</th>\n",
       "      <th>sexo</th>\n",
       "      <th>estado</th>\n",
       "      <th>...</th>\n",
       "      <th>codigoResultadoTeste3</th>\n",
       "      <th>codigoEstadoTeste4</th>\n",
       "      <th>codigoTipoTeste4</th>\n",
       "      <th>codigoFabricanteTeste4</th>\n",
       "      <th>codigoResultadoTeste4</th>\n",
       "      <th>dataColetaTeste1</th>\n",
       "      <th>dataColetaTeste2</th>\n",
       "      <th>dataColetaTeste3</th>\n",
       "      <th>dataColetaTeste4</th>\n",
       "      <th>idade</th>\n",
       "    </tr>\n",
       "  </thead>\n",
       "  <tbody>\n",
       "    <tr>\n",
       "      <th>4610654</th>\n",
       "      <td>Outros</td>\n",
       "      <td>Não</td>\n",
       "      <td>Branca</td>\n",
       "      <td>🤣</td>\n",
       "      <td>NaN</td>\n",
       "      <td>Não</td>\n",
       "      <td>NaN</td>\n",
       "      <td>NaN</td>\n",
       "      <td>Masculino</td>\n",
       "      <td>São Paulo</td>\n",
       "      <td>...</td>\n",
       "      <td>NaN</td>\n",
       "      <td>NaN</td>\n",
       "      <td>NaN</td>\n",
       "      <td>NaN</td>\n",
       "      <td>NaN</td>\n",
       "      <td>2020-08-19</td>\n",
       "      <td>NaN</td>\n",
       "      <td>NaN</td>\n",
       "      <td>NaN</td>\n",
       "      <td>43.0</td>\n",
       "    </tr>\n",
       "  </tbody>\n",
       "</table>\n",
       "<p>1 rows × 64 columns</p>\n",
       "</div>"
      ],
      "text/plain": [
       "        sintomas profissionalSaude racaCor outrosSintomas outrasCondicoes  \\\n",
       "4610654   Outros               Não  Branca              🤣             NaN   \n",
       "\n",
       "        profissionalSeguranca  cbo condicoes       sexo     estado  ...  \\\n",
       "4610654                   Não  NaN       NaN  Masculino  São Paulo  ...   \n",
       "\n",
       "        codigoResultadoTeste3 codigoEstadoTeste4 codigoTipoTeste4  \\\n",
       "4610654                   NaN                NaN              NaN   \n",
       "\n",
       "        codigoFabricanteTeste4 codigoResultadoTeste4 dataColetaTeste1  \\\n",
       "4610654                    NaN                   NaN       2020-08-19   \n",
       "\n",
       "         dataColetaTeste2 dataColetaTeste3 dataColetaTeste4  idade  \n",
       "4610654               NaN              NaN              NaN   43.0  \n",
       "\n",
       "[1 rows x 64 columns]"
      ]
     },
     "execution_count": 31,
     "metadata": {},
     "output_type": "execute_result"
    }
   ],
   "source": [
    "#Easter Egg\n",
    "dfSP[dfSP['outrosSintomas'] == '🤣']"
   ]
  },
  {
   "cell_type": "code",
   "execution_count": null,
   "id": "136cbd8b",
   "metadata": {
    "papermill": {
     "duration": 0.020431,
     "end_time": "2024-04-01T14:53:31.157870",
     "exception": false,
     "start_time": "2024-04-01T14:53:31.137439",
     "status": "completed"
    },
    "tags": []
   },
   "outputs": [],
   "source": []
  }
 ],
 "metadata": {
  "kaggle": {
   "accelerator": "none",
   "dataSources": [
    {
     "datasetId": 4642383,
     "sourceId": 7903922,
     "sourceType": "datasetVersion"
    }
   ],
   "dockerImageVersionId": 30673,
   "isGpuEnabled": false,
   "isInternetEnabled": true,
   "language": "python",
   "sourceType": "notebook"
  },
  "kernelspec": {
   "display_name": "Python 3",
   "language": "python",
   "name": "python3"
  },
  "language_info": {
   "codemirror_mode": {
    "name": "ipython",
    "version": 3
   },
   "file_extension": ".py",
   "mimetype": "text/x-python",
   "name": "python",
   "nbconvert_exporter": "python",
   "pygments_lexer": "ipython3",
   "version": "3.10.13"
  },
  "papermill": {
   "default_parameters": {},
   "duration": 225.657036,
   "end_time": "2024-04-01T14:53:34.204143",
   "environment_variables": {},
   "exception": null,
   "input_path": "__notebook__.ipynb",
   "output_path": "__notebook__.ipynb",
   "parameters": {},
   "start_time": "2024-04-01T14:49:48.547107",
   "version": "2.5.0"
  }
 },
 "nbformat": 4,
 "nbformat_minor": 5
}
